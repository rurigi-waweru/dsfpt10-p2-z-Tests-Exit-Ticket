{
 "cells": [
  {
   "cell_type": "markdown",
   "metadata": {},
   "source": [
    "# Question 1"
   ]
  },
  {
   "cell_type": "markdown",
   "metadata": {},
   "source": [
    "Cristian is wondering whether the turtles of a certain species living near the nuclear plant have longer necks than the turtles of that same species that live elsewhere. What should his null hypothesis be?\n",
    "\n",
    "> [i] (Correct) The turtles living near the nuclear plant do not have longer necks than the turtles living elsewhere.\n",
    "\n",
    "> [ii] The turtles living near the nuclear plant have necks no shorter than the turtles living elsewhere.\n",
    "\n",
    "> [iii] The nuclear plant has no causal effect on the lengths of turtle necks.\n",
    "\n",
    "> [iv] The turtles living near the nuclear plant have longer necks than the turtles living elsewhere.\n",
    "\n",
    "> [v] The difference between average turtle neck lengths of the two turtle populations is less than one pooled standard deviation."
   ]
  },
  {
   "cell_type": "markdown",
   "metadata": {},
   "source": [
    "`Explanation:`\n",
    "The null hypothesis (H₀) typically represents a statement of no effect or no difference. In this case, Cristian is investigating whether turtles near the nuclear plant have longer necks than those elsewhere.\n",
    "\n",
    "> The null hypothesis assumes no difference or that any observed difference is due to chance.\n",
    "\n",
    "> This means we assume the neck lengths are not longer near the nuclear plant unless evidence suggests otherwise.\n",
    "\n",
    "Thus, the `correct` null hypothesis is:\n",
    "##### \"The turtles living near the nuclear plant do not have longer necks than the turtles living elsewhere.\""
   ]
  },
  {
   "cell_type": "markdown",
   "metadata": {},
   "source": [
    "# Question 2"
   ]
  },
  {
   "cell_type": "markdown",
   "metadata": {},
   "source": [
    "What would an alpha value of 0.1 mean for the above experiment?\n",
    "\n",
    "> [i] That 10% of the time the turtles near the plant would be found to have longer necks.\n",
    "\n",
    "> [ii] That Cristian will tolerate a 1% chance of concluding that the turtles near the plant have longer necks when in fact they do not.\n",
    "\n",
    "> [iii] (correct) That Cristian will tolerate a 10% chance of concluding that the turtles near the plant have longer necks when in fact they do not.\n",
    "\n",
    "> [iv] That 10% of all turtles would be misclassified.\n",
    "\n",
    "> [v] That 1% of all turtles would be misclassified."
   ]
  },
  {
   "cell_type": "markdown",
   "metadata": {},
   "source": [
    "## Understanding Alpha (α) in Hypothesis Testing\n",
    "\n",
    "> The alpha value (α) represents the significance level, which is the probability of committing a Type I error.\n",
    "\n",
    "> A Type I error occurs when we incorrectly reject the null hypothesis (H₀) when it is actually true.\n",
    "\n",
    "> In this experiment, the null hypothesis is:\n",
    "\"The turtles living near the nuclear plant do not have longer necks than the turtles living elsewhere.\"\n",
    "\n",
    "> If α = 0.1, it means Cristian is willing to accept a 10% risk of falsely rejecting this null hypothesis, concluding that the turtles near the plant have longer necks when, in reality, they do not.\n",
    "\n",
    "## Verifying the Answer Choices\n",
    "\n",
    ">[i] \"That 10% of the time the turtles near the plant would be found to have longer necks.\"\n",
    "❌ Incorrect. The alpha value does not indicate how often turtles actually have longer necks—it only defines the probability of a false conclusion.\n",
    "\n",
    ">[ii] \"That Cristian will tolerate a 1% chance of concluding that the turtles near the plant have longer necks when in fact they do not.\"\n",
    "❌ Incorrect. This describes an alpha of 0.01 (1%), not 0.1 (10%).\n",
    "\n",
    ">[iii]\"That Cristian will tolerate a 10% chance of concluding that the turtles near the plant have longer necks when in fact they do not.\"\n",
    "✅ Correct. This properly defines the significance level (α = 0.1), meaning there is a 10% chance of incorrectly rejecting the null hypothesis.\n",
    "\n",
    ">[iv]\"That 10% of all turtles would be misclassified.\"\n",
    "❌ Incorrect. The significance level has nothing to do with individual turtle misclassification—it is about hypothesis testing errors.\n",
    "\n",
    ">[v] \"That 1% of all turtles would be misclassified.\"\n",
    "❌ Incorrect. Same reason as above.\n",
    "\n",
    "## `Final Conclusion`\n",
    "In a proper analysis, the correct interpretation of α = 0.1 is:\n",
    "✅ \"That Cristian will tolerate a 10% chance of concluding that the turtles near the plant have longer necks when in fact they do not.\""
   ]
  },
  {
   "cell_type": "markdown",
   "metadata": {},
   "source": [
    "# Question 3"
   ]
  },
  {
   "cell_type": "markdown",
   "metadata": {},
   "source": [
    "What does a p-value represent?\n",
    "\n",
    ">[i] The chance that your test results are mistaken.\n",
    "\n",
    ">[ii] The chance of seeing a difference at least as extreme as your sample's difference assuming that the null hypothesis is true.\n",
    "\n",
    ">[iii] The change of seeing a difference no more extreme than your sample's difference.\n",
    "\n",
    ">[iv] The chance of seeing a difference between samples assuming that the alternative hypothesis is true.\n",
    "\n",
    ">[v] The chance of getting a false positive."
   ]
  },
  {
   "cell_type": "markdown",
   "metadata": {},
   "source": [
    "## The `correct answer` is:\n",
    "\n",
    "✅ \"[ii] The chance of seeing a difference at least as extreme as your sample's difference assuming that the null hypothesis is true.\"\n",
    "\n",
    "## `Explanation:`\n",
    "The p-value is the probability of obtaining a test statistic as extreme or more extreme than the observed result, assuming the null hypothesis (H₀) is true.\n",
    "\n",
    "## Evaluating Each Answer Choice:\n",
    "> \"[i] The chance that your test results are mistaken.\"\n",
    "❌ Incorrect. This is too vague. The p-value does not directly measure the probability that the test is wrong—it quantifies how likely the observed data is under H₀.\n",
    "\n",
    "> \"[ii] The chance of seeing a difference at least as extreme as your sample's difference assuming that the null hypothesis is true.\"\n",
    "✅ Correct. This is the textbook definition of a p-value. It measures how extreme the observed data is under the assumption that H₀ is true.\n",
    "\n",
    "> \"[iii] The chance of seeing a difference no more extreme than your sample's difference.\"\n",
    "❌ Incorrect. The p-value considers results as extreme or more extreme, not just \"no more extreme.\"\n",
    "\n",
    "> \"[iv] The chance of seeing a difference between samples assuming that the alternative hypothesis is true.\"\n",
    "❌ Incorrect. The p-value is calculated assuming the null hypothesis is true, not the alternative hypothesis.\n",
    "\n",
    "> \"[v] The chance of getting a false positive.\"\n",
    "❌ Incorrect. A false positive (Type I error) is related to the alpha level (α), not the p-value directly.\n",
    "\n",
    "## `Final Answer:`\n",
    "✅ \"[ii] The chance of seeing a difference at least as extreme as your sample's difference assuming that the null hypothesis is true.\""
   ]
  }
 ],
 "metadata": {
  "language_info": {
   "name": "python"
  }
 },
 "nbformat": 4,
 "nbformat_minor": 2
}
